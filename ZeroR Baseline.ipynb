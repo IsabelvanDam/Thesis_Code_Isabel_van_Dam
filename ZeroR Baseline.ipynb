{
 "cells": [
  {
   "cell_type": "code",
   "execution_count": 1,
   "metadata": {},
   "outputs": [],
   "source": [
    "from sklearn.dummy import DummyClassifier\n",
    "from sklearn.metrics import classification_report\n",
    "\n",
    "class ZeroR:\n",
    "    def __init__(self):\n",
    "        self.model = DummyClassifier(strategy='most_frequent')\n",
    "    \n",
    "    def fit(self, X_train, y_train):\n",
    "        self.model.fit(X_train, y_train)\n",
    "    \n",
    "    def predict(self, X_test):\n",
    "        return self.model.predict(X_test)\n",
    "    \n",
    "    def evaluate(self, X_test, y_test):\n",
    "        y_pred = self.predict(X_test)\n",
    "        report = classification_report(y_test, y_pred)\n",
    "        print(report)\n"
   ]
  },
  {
   "cell_type": "code",
   "execution_count": 6,
   "metadata": {},
   "outputs": [
    {
     "name": "stdout",
     "output_type": "stream",
     "text": [
      "Performance measures for ZeroR classifier on the training dataset:\n",
      "              precision    recall  f1-score   support\n",
      "\n",
      "           0       0.71      1.00      0.83        34\n",
      "           1       0.00      0.00      0.00        14\n",
      "\n",
      "    accuracy                           0.71        48\n",
      "   macro avg       0.35      0.50      0.41        48\n",
      "weighted avg       0.50      0.71      0.59        48\n",
      "\n",
      "Performance measures for ZeroR classifier on the test dataset:\n",
      "              precision    recall  f1-score   support\n",
      "\n",
      "           0       0.75      1.00      0.86         9\n",
      "           1       0.00      0.00      0.00         3\n",
      "\n",
      "    accuracy                           0.75        12\n",
      "   macro avg       0.38      0.50      0.43        12\n",
      "weighted avg       0.56      0.75      0.64        12\n",
      "\n"
     ]
    }
   ],
   "source": [
    "from sklearn.model_selection import train_test_split\n",
    "from sklearn.preprocessing import StandardScaler\n",
    "import pandas as pd\n",
    "from sklearn.dummy import DummyClassifier\n",
    "from sklearn.metrics import classification_report\n",
    "\n",
    "data = pd.read_excel(r'\\Users\\isabe\\OneDrive\\Documenten\\Master DDS\\Thesis\\A\\Data\\Final_data.xlsx')\n",
    "\n",
    "# Define predictor variables and target variable\n",
    "X = data[['needle_fear', 'HRV', 'nic_caf', 'prior_donor', 'gender']]\n",
    "y = data['vasovagal_enc']\n",
    "X_train, X_test, y_train, y_test = train_test_split(X, y, test_size=0.2, random_state=42)\n",
    "\n",
    "# Scale data\n",
    "scaler = StandardScaler()\n",
    "X_train_scaled = scaler.fit_transform(X_train)\n",
    "X_test_scaled = scaler.transform(X_test)\n",
    "\n",
    "# Train and evaluate ZeroR classifier\n",
    "zr = ZeroR()\n",
    "zr.fit(X_train_scaled, y_train)\n",
    "\n",
    "# Evaluation on training set\n",
    "print(\"Performance measures for ZeroR classifier on the training dataset:\")\n",
    "zr.evaluate(X_train_scaled, y_train)\n",
    "\n",
    "# Evaluation on test set\n",
    "print(\"Performance measures for ZeroR classifier on the test dataset:\")\n",
    "zr.evaluate(X_test_scaled, y_test)\n"
   ]
  },
  {
   "attachments": {},
   "cell_type": "markdown",
   "metadata": {},
   "source": [
    "Check if the ZeroR works"
   ]
  },
  {
   "cell_type": "code",
   "execution_count": 5,
   "metadata": {},
   "outputs": [
    {
     "data": {
      "image/png": "[encoded data removed]",
      "text/plain": [
       "<Figure size 432x288 with 1 Axes>"
      ]
     },
     "metadata": {
      "needs_background": "light"
     },
     "output_type": "display_data"
    }
   ],
   "source": [
    "from sklearn.metrics import roc_curve, auc\n",
    "from sklearn.dummy import DummyClassifier\n",
    "import matplotlib.pyplot as plt\n",
    "\n",
    "# Train and evaluate ZeroR classifier\n",
    "zr = DummyClassifier(strategy='most_frequent')\n",
    "zr.fit(X_train_scaled, y_train)\n",
    "y_pred_prob = zr.predict_proba(X_test_scaled)[:, 1]\n",
    "\n",
    "# Compute ROC curve and AUC score\n",
    "fpr, tpr, thresholds = roc_curve(y_test, y_pred_prob)\n",
    "roc_auc = auc(fpr, tpr)\n",
    "\n",
    "# Plot ROC curve\n",
    "plt.figure()\n",
    "plt.plot(fpr, tpr, color='darkorange', lw=2, label='ROC curve (area = %0.2f)' % roc_auc)\n",
    "plt.plot([0, 1], [0, 1], color='navy', lw=2, linestyle='--')\n",
    "plt.xlim([0.0, 1.0])\n",
    "plt.ylim([0.0, 1.05])\n",
    "plt.xlabel('False Positive Rate')\n",
    "plt.ylabel('True Positive Rate')\n",
    "plt.title('Receiver Operating Characteristic')\n",
    "plt.legend(loc=\"lower right\")\n",
    "plt.show()\n"
   ]
  }
 ],
 "metadata": {
  "kernelspec": {
   "display_name": "base",
   "language": "python",
   "name": "python3"
  },
  "language_info": {
   "codemirror_mode": {
    "name": "ipython",
    "version": 3
   },
   "file_extension": ".py",
   "mimetype": "text/x-python",
   "name": "python",
   "nbconvert_exporter": "python",
   "pygments_lexer": "ipython3",
   "version": "3.10.6"
  },
  "orig_nbformat": 4
 },
 "nbformat": 4,
 "nbformat_minor": 2
}
