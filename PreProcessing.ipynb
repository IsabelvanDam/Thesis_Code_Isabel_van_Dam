{
 "cells": [
  {
   "attachments": {},
   "cell_type": "markdown",
   "metadata": {},
   "source": [
    "Preprocessing HRV"
   ]
  },
  {
   "cell_type": "code",
   "execution_count": null,
   "metadata": {},
   "outputs": [],
   "source": [
    "def heart_rate_variability(hr_series):  \n",
    "        # Calculate the heart rate variability values\n",
    "        hr_variability = np.diff(hr_series)\n",
    "        \n",
    "        # Return the heart rate variability values\n",
    "        return hr_variability.tolist()\n",
    "    except TypeError as e:\n",
    "        # Log the error\n",
    "        print(f\"Error: {e}\")\n",
    "        return []"
   ]
  },
  {
   "attachments": {},
   "cell_type": "markdown",
   "metadata": {},
   "source": [
    "Get RMSSD from the HRV file"
   ]
  },
  {
   "cell_type": "code",
   "execution_count": 25,
   "metadata": {},
   "outputs": [],
   "source": [
    "import pandas as pd\n",
    "import numpy as np\n",
    "\n",
    "def get_RMSSD_from_csv(file_path):\n",
    "    try:\n",
    "        # Read the CSV file into a pandas dataframe\n",
    "        df = pd.read_csv(file_path, header=None)\n",
    "        \n",
    "        # Split the space-separated values into separate columns\n",
    "        df = df[0].str.split(expand=True)\n",
    "        \n",
    "        # Convert the dataframe to a numpy array and remove any NaN values\n",
    "        arr = df.to_numpy(dtype=np.float64).flatten()\n",
    "        arr = arr[~np.isnan(arr)]\n",
    "        \n",
    "        # Calculate the differences between adjacent values\n",
    "        diffs = np.diff(arr)\n",
    "        \n",
    "        # Calculate the RMSSD\n",
    "        rmssd = np.sqrt(np.mean(np.square(diffs)))\n",
    "        \n",
    "        return rmssd\n",
    "    except Exception as e:\n",
    "        # Log the error\n",
    "        print(f\"Error: {e}\")\n",
    "        return 0\n"
   ]
  },
  {
   "attachments": {},
   "cell_type": "markdown",
   "metadata": {},
   "source": [
    "Repeat for all participants the code"
   ]
  },
  {
   "cell_type": "code",
   "execution_count": 91,
   "metadata": {},
   "outputs": [
    {
     "data": {
      "text/plain": [
       "0.5315666341480791"
      ]
     },
     "execution_count": 91,
     "metadata": {},
     "output_type": "execute_result"
    }
   ],
   "source": [
    "get_RMSSD_from_csv(r'\\Users\\isabe\\OneDrive\\Documenten\\Master DDS\\Thesis\\A\\Data\\aparte csv.csv')"
   ]
  },
  {
   "attachments": {},
   "cell_type": "markdown",
   "metadata": {},
   "source": [
    "Normalize the RMSSD and vasovagal"
   ]
  },
  {
   "cell_type": "code",
   "execution_count": 8,
   "metadata": {},
   "outputs": [],
   "source": [
    "import pandas as pd\n",
    "\n",
    "# read in Excel file\n",
    "df = pd.read_excel(r'\\Users\\isabe\\OneDrive\\Documenten\\Master DDS\\Thesis\\A\\Data\\predictors.xlsx')\n",
    "\n",
    "\n",
    "# select the columns to normalize\n",
    "cols_to_normalize = ['vasovagal', 'HRV']\n",
    "\n",
    "# normalize the columns using the formula (x - mean) / std_dev\n",
    "for col in cols_to_normalize:\n",
    "    mean = df[col].mean()\n",
    "    std_dev = df[col].std()\n",
    "    df[col] = (df[col] - mean) / std_dev\n",
    "\n",
    "# write the normalized data back to the Excel file\n",
    "writer = pd.ExcelWriter('filename_normalized_both.xlsx')\n",
    "df.to_excel(writer)\n",
    "writer.save()\n",
    "\n"
   ]
  },
  {
   "cell_type": "code",
   "execution_count": 9,
   "metadata": {},
   "outputs": [],
   "source": [
    "import pandas as pd\n",
    "from sklearn.preprocessing import OneHotEncoder\n",
    "\n",
    "# load the data from Excel into a pandas DataFrame\n",
    "df = pd.read_excel(r'\\Users\\isabe\\OneDrive\\Documenten\\Master DDS\\Thesis\\A\\Data\\Final_data.xlsx')\n",
    "\n",
    "# select the column containing the categorical variable to be encoded\n",
    "categorical_column = 'vasovagal_encoded'\n",
    "\n",
    "# create a new DataFrame containing only the categorical variable\n",
    "X_categorical = df[[categorical_column]]\n",
    "\n",
    "# create an instance of the OneHotEncoder class\n",
    "encoder = OneHotEncoder()\n",
    "\n",
    "# fit the encoder to the categorical variable and transform it into binary variables\n",
    "X_encoded = encoder.fit_transform(X_categorical)\n",
    "\n",
    "# convert the binary variables into a pandas DataFrame\n",
    "X_encoded_df = pd.DataFrame.sparse.from_spmatrix(X_encoded)\n",
    "\n",
    "# give meaningful column names to the binary variables\n",
    "X_encoded_df.columns = [f'{categorical_column}_{level}' for level in encoder.categories_[0]]\n",
    "\n",
    "# concatenate the binary variables with the original DataFrame\n",
    "df_encoded = pd.concat([df, X_encoded_df], axis=1)\n",
    "\n",
    "# save the encoded DataFrame to Excel\n",
    "df_encoded.to_excel('data_encoded.xlsx', index=False)\n"
   ]
  }
 ],
 "metadata": {
  "kernelspec": {
   "display_name": "base",
   "language": "python",
   "name": "python3"
  },
  "language_info": {
   "codemirror_mode": {
    "name": "ipython",
    "version": 3
   },
   "file_extension": ".py",
   "mimetype": "text/x-python",
   "name": "python",
   "nbconvert_exporter": "python",
   "pygments_lexer": "ipython3",
   "version": "3.9.12"
  },
  "orig_nbformat": 4
 },
 "nbformat": 4,
 "nbformat_minor": 2
}
