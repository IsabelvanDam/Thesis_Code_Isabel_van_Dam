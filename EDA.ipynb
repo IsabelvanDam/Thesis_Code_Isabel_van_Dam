{
 "cells": [
  {
   "cell_type": "code",
   "execution_count": 116,
   "metadata": {},
   "outputs": [
    {
     "name": "stdout",
     "output_type": "stream",
     "text": [
      "T-Test for Gender (Male) - Low VVR vs. High VVR:\n",
      "T-Statistic: -1.847149981801826\n",
      "\n",
      "T-Test for Gender (Female) - Low VVR vs. High VVR:\n",
      "T-Statistic: -1.5142984943226958\n",
      "\n",
      "T-Test for Needle fear (Yes) - Low VVR vs. High VVR:\n",
      "T-Statistic: -2.235713655356671\n",
      "\n",
      "T-Test for Needle fear (No) - Low VVR vs. High VVR:\n",
      "T-Statistic: -0.9521532643785642\n",
      "\n",
      "T-Test for Age - Low VVR vs. High VVR:\n",
      "T-Statistic: -2.286023853891898\n"
     ]
    }
   ],
   "source": [
    "import pandas as pd\n",
    "from scipy.stats import ttest_ind\n",
    "\n",
    "# Read the Excel file\n",
    "data = pd.read_excel(r'\\Users\\isabe\\OneDrive\\Documenten\\Master DDS\\Thesis\\A\\Data\\Final_data.xlsx')\n",
    "\n",
    "# Separate groups based on vasovagal reactions (0 = low, 1 = high)\n",
    "low_vvr_group = data[data['vasovagal_enc'] == 0]\n",
    "high_vvr_group = data[data['vasovagal_enc'] == 1]\n",
    "\n",
    "# Perform t-test for Gender (Male/Female)\n",
    "male_group = data[data['gender'] == 0]\n",
    "female_group = data[data['gender'] == 1]\n",
    "\n",
    "ttest_male_low = ttest_ind(male_group[male_group['vasovagal_enc'] == 0]['age'],\n",
    "                           male_group[male_group['vasovagal_enc'] == 1]['age'])\n",
    "ttest_female_low = ttest_ind(female_group[female_group['vasovagal_enc'] == 0]['age'],\n",
    "                             female_group[female_group['vasovagal_enc'] == 1]['age'])\n",
    "\n",
    "# Perform t-test for Needle fear (Yes/No)\n",
    "yes_group = data[data['needle_fear'] == 1]\n",
    "no_group = data[data['needle_fear'] == 0]\n",
    "\n",
    "ttest_yes_low = ttest_ind(yes_group[yes_group['vasovagal_enc'] == 0]['age'],\n",
    "                          yes_group[yes_group['vasovagal_enc'] == 1]['age'])\n",
    "ttest_no_low = ttest_ind(no_group[no_group['vasovagal_enc'] == 0]['age'],\n",
    "                         no_group[no_group['vasovagal_enc'] == 1]['age'])\n",
    "\n",
    "# Perform t-test for Age\n",
    "ttest_age_low = ttest_ind(low_vvr_group['age'], high_vvr_group['age'])\n",
    "\n",
    "# Print the t-test scores\n",
    "print(\"T-Test for Gender (Male) - Low VVR vs. High VVR:\")\n",
    "print(\"T-Statistic:\", ttest_male_low.statistic)\n",
    "\n",
    "\n",
    "print(\"\\nT-Test for Gender (Female) - Low VVR vs. High VVR:\")\n",
    "print(\"T-Statistic:\", ttest_female_low.statistic)\n",
    "\n",
    "\n",
    "print(\"\\nT-Test for Needle fear (Yes) - Low VVR vs. High VVR:\")\n",
    "print(\"T-Statistic:\", ttest_yes_low.statistic)\n",
    "\n",
    "\n",
    "print(\"\\nT-Test for Needle fear (No) - Low VVR vs. High VVR:\")\n",
    "print(\"T-Statistic:\", ttest_no_low.statistic)\n",
    "\n",
    "\n",
    "print(\"\\nT-Test for Age - Low VVR vs. High VVR:\")\n",
    "print(\"T-Statistic:\", ttest_age_low.statistic)\n",
    "\n"
   ]
  },
  {
   "cell_type": "code",
   "execution_count": 118,
   "metadata": {},
   "outputs": [
    {
     "name": "stdout",
     "output_type": "stream",
     "text": [
      "Standard Deviation (Low VVR): 0.50709255283711\n",
      "Standard Deviation (High VVR): 0.43461349368017654\n",
      "T-Statistic: 1.151329536445816\n"
     ]
    }
   ],
   "source": [
    "import pandas as pd\n",
    "from scipy import stats\n",
    "\n",
    "# Read the data from Excel file\n",
    "data = pd.read_excel(r'\\Users\\isabe\\OneDrive\\Documenten\\Master DDS\\Thesis\\A\\Data\\Final_data.xlsx')\n",
    "\n",
    "# Separate data for low VVR and high VVR groups based on 'nic_caf' variable\n",
    "low_vvr_data = data[data['nic_caf'] == 0]['vasovagal_enc']\n",
    "high_vvr_data = data[data['nic_caf'] == 1]['vasovagal_enc']\n",
    "\n",
    "# Calculate standard deviation for low VVR and high VVR\n",
    "low_vvr_sd = low_vvr_data.std()\n",
    "high_vvr_sd = high_vvr_data.std()\n",
    "\n",
    "# Calculate t-statistic using independent t-test\n",
    "t_statistic, _ = stats.ttest_ind(low_vvr_data, high_vvr_data)\n",
    "\n",
    "# Print the results\n",
    "print(\"Standard Deviation (Low VVR):\", low_vvr_sd)\n",
    "print(\"Standard Deviation (High VVR):\", high_vvr_sd)\n",
    "print(\"T-Statistic:\", t_statistic)\n",
    "\n"
   ]
  },
  {
   "cell_type": "code",
   "execution_count": 119,
   "metadata": {},
   "outputs": [
    {
     "name": "stdout",
     "output_type": "stream",
     "text": [
      "Standard Deviation (Low VVR): 0.6172133998483675\n",
      "Standard Deviation (High VVR): 1.044465935734187\n",
      "T-Statistic: -1.1659223816361024\n"
     ]
    }
   ],
   "source": [
    "import pandas as pd\n",
    "from scipy import stats\n",
    "\n",
    "data = pd.read_excel(r'\\Users\\isabe\\OneDrive\\Documenten\\Master DDS\\Thesis\\A\\Data\\Final_data.xlsx')\n",
    "\n",
    "# Separate data for low VVR and high VVR groups based on 'nic_caf' variable\n",
    "low_vvr_data = data[data['nic_caf'] == 0]['prior_donor']\n",
    "high_vvr_data = data[data['nic_caf'] == 1]['prior_donor']\n",
    "\n",
    "# Calculate standard deviation for low VVR and high VVR\n",
    "low_vvr_sd = low_vvr_data.std()\n",
    "high_vvr_sd = high_vvr_data.std()\n",
    "\n",
    "# Calculate t-statistic using independent t-test\n",
    "t_statistic, _ = stats.ttest_ind(low_vvr_data, high_vvr_data)\n",
    "\n",
    "# Print the results\n",
    "print(\"Standard Deviation (Low VVR):\", low_vvr_sd)\n",
    "print(\"Standard Deviation (High VVR):\", high_vvr_sd)\n",
    "print(\"T-Statistic:\", t_statistic)\n"
   ]
  },
  {
   "cell_type": "code",
   "execution_count": 52,
   "metadata": {},
   "outputs": [
    {
     "name": "stdout",
     "output_type": "stream",
     "text": [
      "Count for Male (0) with Low VVR (0): 16\n",
      "Count for Male (0) with High VVR (1): 3\n"
     ]
    }
   ],
   "source": [
    "data = pd.read_excel(r'\\Users\\isabe\\OneDrive\\Documenten\\Master DDS\\Thesis\\A\\Data\\Final_data.xlsx')\n",
    "\n",
    "# Define predictor variables and target variable\n",
    "X = data[['nic_caf', 'prior_donor', 'gender']]\n",
    "y = data['vasovagal_enc']\n",
    "\n",
    "male_low_vvr_count = len(data[(data['gender'] == 0) & (data['vasovagal_enc'] == 0)])\n",
    "male_high_vvr_count = len(data[(data['gender'] == 0) & (data['vasovagal_enc'] == 1)])\n",
    "\n",
    "print(\"Count for Male (0) with Low VVR (0):\", male_low_vvr_count)\n",
    "print(\"Count for Male (0) with High VVR (1):\", male_high_vvr_count)\n"
   ]
  },
  {
   "cell_type": "code",
   "execution_count": 53,
   "metadata": {},
   "outputs": [
    {
     "name": "stdout",
     "output_type": "stream",
     "text": [
      "Count for feMale (0) with Low VVR (0): 27\n",
      "Count for feMale (0) with High VVR (1): 14\n"
     ]
    }
   ],
   "source": [
    "data = pd.read_excel(r'\\Users\\isabe\\OneDrive\\Documenten\\Master DDS\\Thesis\\A\\Data\\Final_data.xlsx')\n",
    "\n",
    "# Define predictor variables and target variable\n",
    "X = data[['nic_caf', 'prior_donor', 'gender']]\n",
    "y = data['vasovagal_enc']\n",
    "\n",
    "female_low_vvr_count = len(data[(data['gender'] == 1) & (data['vasovagal_enc'] == 0)])\n",
    "female_high_vvr_count = len(data[(data['gender'] == 1) & (data['vasovagal_enc'] == 1)])\n",
    "\n",
    "print(\"Count for feMale (0) with Low VVR (0):\", female_low_vvr_count)\n",
    "print(\"Count for feMale (0) with High VVR (1):\", female_high_vvr_count)"
   ]
  },
  {
   "cell_type": "code",
   "execution_count": 57,
   "metadata": {},
   "outputs": [
    {
     "name": "stdout",
     "output_type": "stream",
     "text": [
      "Mean (M) of Age for Low VVR (0): 20.511627906976745\n",
      "Standard Deviation (SD) of Age for Low VVR (0): 2.2861778097571177\n",
      "Mean (M) of Age for High VVR (1): 22.058823529411764\n",
      "Standard Deviation (SD) of Age for High VVR (1): 2.4124819593423386\n"
     ]
    }
   ],
   "source": [
    "import numpy as np\n",
    "\n",
    "age_low_vvr_mean = np.mean(data[data['vasovagal_enc'] == 0]['age'])\n",
    "age_low_vvr_std = np.std(data[data['vasovagal_enc'] == 0]['age'])\n",
    "\n",
    "age_high_vvr_mean = np.mean(data[data['vasovagal_enc'] == 1]['age'])\n",
    "age_high_vvr_std = np.std(data[data['vasovagal_enc'] == 1]['age'])\n",
    "\n",
    "print(\"Mean (M) of Age for Low VVR (0):\", age_low_vvr_mean)\n",
    "print(\"Standard Deviation (SD) of Age for Low VVR (0):\", age_low_vvr_std)\n",
    "print(\"Mean (M) of Age for High VVR (1):\", age_high_vvr_mean)\n",
    "print(\"Standard Deviation (SD) of Age for High VVR (1):\", age_high_vvr_std)\n"
   ]
  },
  {
   "cell_type": "code",
   "execution_count": 58,
   "metadata": {},
   "outputs": [
    {
     "name": "stdout",
     "output_type": "stream",
     "text": [
      "Percentage of people with Needle Fear = Yes (0) in Low VVR (0): 16.27906976744186\n",
      "Percentage of people with Needle Fear = Yes (0) in High VVR (1): 64.70588235294117\n"
     ]
    }
   ],
   "source": [
    "needle_fear_yes_low_vvr_percentage = len(data[(data['needle_fear'] == 0) & (data['vasovagal_enc'] == 0)]) / len(data[data['vasovagal_enc'] == 0]) * 100\n",
    "needle_fear_yes_high_vvr_percentage = len(data[(data['needle_fear'] == 0) & (data['vasovagal_enc'] == 1)]) / len(data[data['vasovagal_enc'] == 1]) * 100\n",
    "\n",
    "print(\"Percentage of people with Needle Fear = Yes (0) in Low VVR (0):\", needle_fear_yes_low_vvr_percentage)\n",
    "print(\"Percentage of people with Needle Fear = Yes (0) in High VVR (1):\", needle_fear_yes_high_vvr_percentage)\n"
   ]
  },
  {
   "cell_type": "code",
   "execution_count": 61,
   "metadata": {},
   "outputs": [
    {
     "name": "stdout",
     "output_type": "stream",
     "text": [
      "Percentage of people with Needle Fear = no (1) in Low VVR (0): 83.72093023255815\n",
      "Percentage of people with Needle Fear = no (1) in High VVR (1): 35.294117647058826\n"
     ]
    }
   ],
   "source": [
    "needle_fear_no_low_vvr_percentage = len(data[(data['needle_fear'] == 1) & (data['vasovagal_enc'] == 0)]) / len(data[data['vasovagal_enc'] == 0]) * 100\n",
    "needle_fear_no_high_vvr_percentage = len(data[(data['needle_fear'] == 1) & (data['vasovagal_enc'] == 1)]) / len(data[data['vasovagal_enc'] == 1]) * 100\n",
    "\n",
    "print(\"Percentage of people with Needle Fear = no (1) in Low VVR (0):\", needle_fear_no_low_vvr_percentage)\n",
    "print(\"Percentage of people with Needle Fear = no (1) in High VVR (1):\", needle_fear_no_high_vvr_percentage)\n"
   ]
  },
  {
   "cell_type": "code",
   "execution_count": 75,
   "metadata": {},
   "outputs": [
    {
     "data": {
      "image/png": "[encoded data removed]",
      "text/plain": [
       "<Figure size 640x480 with 1 Axes>"
      ]
     },
     "metadata": {},
     "output_type": "display_data"
    }
   ],
   "source": [
    "vasovagal = data['vasovagal']\n",
    "\n",
    "# Calculate the counts for each VVR score\n",
    "score_counts = vasovagal.value_counts().sort_index()\n",
    "\n",
    "# Create the bar graph\n",
    "plt.bar(score_counts.index, score_counts.values, align='center', alpha=0.8)\n",
    "plt.xlabel('VVR Scores')\n",
    "plt.ylabel('Counts')\n",
    "plt.title('VVR Scores and Counts')\n",
    "\n",
    "# Add a vertical line at the cutoff\n",
    "plt.axvline(x=20-0.5, color='r', linestyle='--')\n",
    "\n",
    "# Display the graph\n",
    "plt.show()"
   ]
  }
 ],
 "metadata": {
  "kernelspec": {
   "display_name": "base",
   "language": "python",
   "name": "python3"
  },
  "language_info": {
   "codemirror_mode": {
    "name": "ipython",
    "version": 3
   },
   "file_extension": ".py",
   "mimetype": "text/x-python",
   "name": "python",
   "nbconvert_exporter": "python",
   "pygments_lexer": "ipython3",
   "version": "3.10.6"
  },
  "orig_nbformat": 4
 },
 "nbformat": 4,
 "nbformat_minor": 2
}
